{
 "cells": [
  {
   "cell_type": "code",
   "execution_count": null,
   "id": "1f20322e-309c-4fce-b958-a122681dd7e9",
   "metadata": {},
   "outputs": [],
   "source": [
    "!pip install --quiet --upgrade git+https://github.com/huggingface/transformers"
   ]
  },
  {
   "cell_type": "code",
   "execution_count": null,
   "id": "4f333a61-8df4-4421-9591-cc5ce7b1247b",
   "metadata": {},
   "outputs": [],
   "source": [
    "# !pip install --quiet --upgrade git+https://github.com/huggingface/diffusers\n",
    "!pip install --quiet --upgrade git+https://github.com/huggingface/diffusers@c795c82df39620e2576ccda765b6e67e849c36e7"
   ]
  },
  {
   "cell_type": "code",
   "execution_count": null,
   "id": "b6fe643b-0cb9-47c8-a2fb-bb87024f348e",
   "metadata": {},
   "outputs": [],
   "source": [
    "!pip install --quiet --upgrade git+https://github.com/huggingface/accelerate"
   ]
  },
  {
   "cell_type": "code",
   "execution_count": null,
   "id": "a9c179dc-dc69-42ac-bee3-3f765ee16f6a",
   "metadata": {},
   "outputs": [],
   "source": [
    "!pip install --quiet --upgrade bitsandbytes"
   ]
  },
  {
   "cell_type": "code",
   "execution_count": null,
   "id": "41cd3891-da69-4137-967b-d89f7182dd63",
   "metadata": {},
   "outputs": [],
   "source": [
    "!pip install --quiet --upgrade sentencepiece"
   ]
  },
  {
   "cell_type": "code",
   "execution_count": null,
   "id": "aa471305-1bd1-4416-b660-6cd832bf80c0",
   "metadata": {},
   "outputs": [],
   "source": [
    "!pip install --quiet --upgrade protobuf"
   ]
  },
  {
   "cell_type": "code",
   "execution_count": null,
   "id": "08412390-3401-4e95-a2ac-319cad0651ec",
   "metadata": {},
   "outputs": [],
   "source": [
    "import torch\n",
    "from diffusers import FluxTransformer2DModel, BitsAndBytesConfig\n",
    "\n",
    "model_id = \"black-forest-labs/FLUX.1-dev\"\n",
    "\n",
    "bnb_config = BitsAndBytesConfig(\n",
    "    load_in_8bit=True\n",
    ")\n",
    "\n",
    "model = FluxTransformer2DModel.from_pretrained(\n",
    "    model_id,\n",
    "    quantization_config=bnb_config,\n",
    "    torch_dtype=torch.float16\n",
    ")\n",
    "\n",
    "model.save_pretrained(\"transformer\")"
   ]
  },
  {
   "cell_type": "code",
   "execution_count": null,
   "id": "918c9c37-6e8f-4935-8a87-3b46aaa78c03",
   "metadata": {},
   "outputs": [],
   "source": [
    "from diffusers import FluxPipeline\n",
    "import torch\n",
    "\n",
    "pipe = FluxPipeline.from_pretrained(\n",
    "    \"black-forest-labs/FLUX.1-dev\",\n",
    "    torch_dtype=torch.bfloat16,\n",
    "    use_safetensors=True,\n",
    "    device_map=\"balanced\", # sequential not supported\n",
    "    max_memory={0:\"23.6GB\", 1:\"23.6GB\"} # need to specfy max memory to not over allocate gpu:0\n",
    ")#.to(\"cuda\")"
   ]
  },
  {
   "cell_type": "code",
   "execution_count": null,
   "id": "01ef3e87-54ef-46dd-b604-bb6fdabe2735",
   "metadata": {},
   "outputs": [],
   "source": [
    "prompt = \"A cat holding a sign that says hello world\"\n",
    "\n",
    "image = pipe(\n",
    "    prompt,\n",
    "    width=1024,\n",
    "    height=768,\n",
    "    guidance_scale=3.5,\n",
    "    num_inference_steps=50,\n",
    "    max_sequence_length=512,\n",
    "    # generator=torch.Generator(\"cuda\").manual_seed(0)\n",
    ").images[0]\n",
    "\n",
    "image"
   ]
  },
  {
   "cell_type": "code",
   "execution_count": null,
   "id": "8cfd9b8a-fc67-4d90-b57c-76b08c087685",
   "metadata": {},
   "outputs": [],
   "source": [
    "prompt = \"A backrooms liminal space\"\n",
    "\n",
    "image = pipe(\n",
    "    prompt,\n",
    "    width=1024,\n",
    "    height=768,\n",
    "    guidance_scale=3.5,\n",
    "    num_inference_steps=50,\n",
    "    max_sequence_length=512,\n",
    "    # generator=torch.Generator(\"cuda\").manual_seed(0)\n",
    ").images[0]\n",
    "\n",
    "image"
   ]
  },
  {
   "cell_type": "code",
   "execution_count": null,
   "id": "72320eaa-f1ba-4b78-9152-5c3da27b4b9b",
   "metadata": {},
   "outputs": [],
   "source": [
    "import utils\n",
    "utils.print_device_info()\n",
    "# utils.print_model_info(pipe.model) # FluxPipeline does't have a model object"
   ]
  },
  {
   "cell_type": "code",
   "execution_count": null,
   "id": "45d00358-fcf5-49a2-a501-bc55818912b4",
   "metadata": {},
   "outputs": [],
   "source": [
    "print(pipe.hf_device_map)"
   ]
  },
  {
   "cell_type": "code",
   "execution_count": null,
   "id": "608e60b5-b45a-4407-adba-cc561ff9d43d",
   "metadata": {},
   "outputs": [],
   "source": []
  }
 ],
 "metadata": {
  "kernelspec": {
   "display_name": "Python 3 (ipykernel)",
   "language": "python",
   "name": "python3"
  },
  "language_info": {
   "codemirror_mode": {
    "name": "ipython",
    "version": 3
   },
   "file_extension": ".py",
   "mimetype": "text/x-python",
   "name": "python",
   "nbconvert_exporter": "python",
   "pygments_lexer": "ipython3",
   "version": "3.12.3"
  }
 },
 "nbformat": 4,
 "nbformat_minor": 5
}
