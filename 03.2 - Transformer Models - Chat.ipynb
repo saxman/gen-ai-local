{
 "cells": [
  {
   "cell_type": "markdown",
   "id": "e63b14de-21d0-4145-a2da-d2da2af06ff5",
   "metadata": {},
   "source": [
    "# 03.2 - Transformer Models - Chat\n",
    "\n",
    "https://huggingface.co/docs/transformers/main/en/conversations"
   ]
  },
  {
   "cell_type": "code",
   "execution_count": null,
   "id": "4a187278-6cc8-4020-98e4-35f2ad0122f9",
   "metadata": {
    "tags": []
   },
   "outputs": [],
   "source": [
    "model_id = \"HuggingFaceTB/SmolLM2-1.7B-Instruct\"\n",
    "\n",
    "model_kwargs = {\n",
    "    \"torch_dtype\": \"auto\",\n",
    "    \"device\": \"cuda\"\n",
    "}"
   ]
  },
  {
   "cell_type": "code",
   "execution_count": null,
   "id": "6ba573c6-3e49-4519-a92d-cd7badeb2aa8",
   "metadata": {},
   "outputs": [],
   "source": [
    "from transformers import pipeline\n",
    "\n",
    "pipe = pipeline(\n",
    "    \"text-generation\",\n",
    "    model_id,\n",
    "    **model_kwargs,\n",
    ")"
   ]
  },
  {
   "cell_type": "code",
   "execution_count": null,
   "id": "35a24fea-dbdf-4427-9f41-7daccd9d1fc4",
   "metadata": {
    "tags": []
   },
   "outputs": [],
   "source": [
    "import utils\n",
    "utils.print_model_info(pipe.model)"
   ]
  },
  {
   "cell_type": "code",
   "execution_count": null,
   "id": "dbee5385-2d63-4aa1-81d1-3bf63099c811",
   "metadata": {},
   "outputs": [],
   "source": [
    "messages = [\n",
    "    {\"role\": \"system\", \"content\": \"You are a helpful travel assistant\"},\n",
    "    {\"role\": \"user\", \"content\": \"Tell me any fun things to do in Seattle\"}\n",
    "]\n",
    "\n",
    "response = pipe(messages, max_new_tokens=512)\n",
    "messages = response[0]['generated_text']\n",
    "\n",
    "print(messages[-1]['content'])"
   ]
  },
  {
   "cell_type": "code",
   "execution_count": null,
   "id": "0e4ae7cb-aba3-465a-9ddc-45b10486b242",
   "metadata": {},
   "outputs": [],
   "source": [
    "messages.append(\n",
    "    {\"role\": \"user\", \"content\": \"Please pick three of these that can be done in a single day\"}\n",
    ")\n",
    "\n",
    "response = pipe(messages, max_new_tokens=512)\n",
    "messages = response[0]['generated_text']\n",
    "\n",
    "print(messages[-1]['content'])"
   ]
  },
  {
   "cell_type": "code",
   "execution_count": null,
   "id": "c2ba10dd-a4ed-4d0a-adb5-7284f54673b6",
   "metadata": {},
   "outputs": [],
   "source": []
  }
 ],
 "metadata": {
  "kernelspec": {
   "display_name": "Python 3 (ipykernel)",
   "language": "python",
   "name": "python3"
  },
  "language_info": {
   "codemirror_mode": {
    "name": "ipython",
    "version": 3
   },
   "file_extension": ".py",
   "mimetype": "text/x-python",
   "name": "python",
   "nbconvert_exporter": "python",
   "pygments_lexer": "ipython3",
   "version": "3.12.3"
  }
 },
 "nbformat": 4,
 "nbformat_minor": 5
}
